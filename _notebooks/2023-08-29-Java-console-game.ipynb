{
 "cells": [
  {
   "cell_type": "markdown",
   "metadata": {},
   "source": [
    "---\n",
    "comments: true\n",
    "layout: post\n",
    "title: Java Console Game\n",
    "description: Creating a game in Java\n",
    "courses: { csa: {week: 2} }\n",
    "type: hacks\n",
    "---"
   ]
  },
  {
   "cell_type": "code",
   "execution_count": 2,
   "metadata": {
    "vscode": {
     "languageId": "java"
    }
   },
   "outputs": [
    {
     "name": "stdout",
     "output_type": "stream",
     "text": [
      "Welcome to the Word Guessing Game!\n",
      "Try to guess the secret word by entering one letter at a time.\n",
      "You have 5 attempts.\n",
      "Enter a letter: Correct! The word now looks like this: _____a_____\n",
      "Enter a letter: Incorrect! You have 3 attempts left.\n",
      "Enter a letter: Incorrect! You have 2 attempts left.\n",
      "Enter a letter: Incorrect! You have 1 attempts left.\n",
      "Enter a letter: Correct! The word now looks like this: __o__a_____\n",
      "Game over! The secret word was: programming\n"
     ]
    }
   ],
   "source": [
    "import java.util.Scanner;\n",
    "\n",
    "public class WordGuessingGame {\n",
    "\n",
    "    public static void main(String[] args) {\n",
    "        Scanner scanner = new Scanner(System.in);\n",
    "\n",
    "        String secretWord = \"programming\";\n",
    "        String guessedWord = \"\";\n",
    "        int maxAttempts = 20;\n",
    "        int attempts = 0;\n",
    "        boolean hasGuessedCorrectly = false;\n",
    "\n",
    "        System.out.println(\"Welcome to the Word Guessing Game!\");\n",
    "        System.out.println(\"Try to guess the secret word by entering one letter at a time.\");\n",
    "        System.out.println(\"You have \" + maxAttempts + \" attempts.\");\n",
    "\n",
    "        while (attempts < maxAttempts) {\n",
    "            System.out.print(\"Enter a letter: \");\n",
    "            char letter = scanner.next().charAt(0);\n",
    "            guessedWord += letter;\n",
    "\n",
    "            if (secretWord.contains(String.valueOf(letter))) {\n",
    "                System.out.println(\"Correct! The word now looks like this: \" + displayWord(secretWord, guessedWord));\n",
    "                if (secretWord.equals(displayWord(secretWord, guessedWord))) {\n",
    "                    System.out.println(\"Congratulations! You've guessed the word!\");\n",
    "                    hasGuessedCorrectly = true;\n",
    "                    break;\n",
    "                }\n",
    "            } else {\n",
    "                System.out.println(\"Incorrect! You have \" + (maxAttempts - attempts - 1) + \" attempts left.\");\n",
    "            }\n",
    "\n",
    "            attempts++;\n",
    "        }\n",
    "\n",
    "        if (!hasGuessedCorrectly) {\n",
    "            System.out.println(\"Game over! The secret word was: \" + secretWord);\n",
    "        }\n",
    "\n",
    "        scanner.close();\n",
    "    }\n",
    "\n",
    "    public static String displayWord(String secretWord, String guessedWord) {\n",
    "        StringBuilder display = new StringBuilder();\n",
    "        for (char letter : secretWord.toCharArray()) {\n",
    "            if (guessedWord.contains(String.valueOf(letter))) {\n",
    "                display.append(letter);\n",
    "            } else {\n",
    "                display.append(\"_\");\n",
    "            }\n",
    "        }\n",
    "        return display.toString();\n",
    "    }\n",
    "}\n",
    "WordGuessingGame.main(null)"
   ]
  }
 ],
 "metadata": {
  "kernelspec": {
   "display_name": "Java",
   "language": "java",
   "name": "java"
  },
  "language_info": {
   "codemirror_mode": "java",
   "file_extension": ".jshell",
   "mimetype": "text/x-java-source",
   "name": "Java",
   "pygments_lexer": "java",
   "version": "11.0.20+8-post-Ubuntu-1ubuntu120.04"
  },
  "orig_nbformat": 4
 },
 "nbformat": 4,
 "nbformat_minor": 2
}
