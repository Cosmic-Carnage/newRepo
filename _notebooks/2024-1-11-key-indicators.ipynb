{
 "cells": [
  {
   "cell_type": "markdown",
   "metadata": {},
   "source": [
    "---\n",
    "toc: true\n",
    "comments: true\n",
    "layout: post\n",
    "title: Key Indicators\n",
    "description: My work so far...\n",
    "courses: { csa: {week: 18} }\n",
    "type: hacks\n",
    "---"
   ]
  },
  {
   "cell_type": "markdown",
   "metadata": {},
   "source": [
    "## Collegeboard Prep\n",
    "\n",
    "- [MCQ Blog](https://ethan.nighthawkcodingsociety.com/2023/12/21/MCQ-Reflections_IPYNB_2_.html)\n",
    "- Taking a similar approach to last year, which was watching videos on the units I missed while practicing with quizzes and reading the AP CSA textbook. So far, this has been going well and it helped me succeed previously, so I will continue to take this approach. "
   ]
  },
  {
   "cell_type": "markdown",
   "metadata": {},
   "source": [
    "## Project Planning\n",
    "\n",
    "- [Data Sets Research](https://github.com/orgs/The-GPT-Warriors/projects/1/views/1?layout=board&pane=issue&itemId=49719821)\n",
    "- Our team agreed on an idea brought up by Anthony Bazhenov, which was to train a machine learning model to recognize sign language. This model would then be able to interpret what someone is saying through the use of a camera and allow the person to speak through the computer. The goal is for this to be a useful application for those who cannot speak with their voice, as well as to do more research into machine learning as a whole."
   ]
  },
  {
   "cell_type": "markdown",
   "metadata": {},
   "source": [
    "## My work\n",
    "\n",
    "- [Scrum Board](https://github.com/orgs/TEE-CSA/projects/1)\n",
    "- [Project Improvements](https://github.com/TEE-CSA/TEE-Frontend/issues/9)\n",
    "- [Project Code](https://github.com/TEE-CSA/TEE-Frontend/issues/7)\n",
    "- [Commits](https://github.com/realethantran)\n",
    "- [Timebox](https://ethan.nighthawkcodingsociety.com/)"
   ]
  }
 ],
 "metadata": {
  "language_info": {
   "name": "python"
  }
 },
 "nbformat": 4,
 "nbformat_minor": 2
}
