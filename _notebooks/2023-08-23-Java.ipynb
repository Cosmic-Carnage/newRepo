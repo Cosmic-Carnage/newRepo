{
 "cells": [
  {
   "cell_type": "markdown",
   "metadata": {},
   "source": [
    "---\n",
    "layout: post\n",
    "title: Java Hello\n",
    "description: Using Java in Jupyter\n",
    "courses: { csa: {week: 1} }\n",
    "type: hacks\n",
    "---"
   ]
  },
  {
   "cell_type": "code",
   "execution_count": 1,
   "metadata": {
    "vscode": {
     "languageId": "java"
    }
   },
   "outputs": [
    {
     "name": "stdout",
     "output_type": "stream",
     "text": [
      "Hellow World!"
     ]
    }
   ],
   "source": [
    "System.out.print(\"Hellow World!\")"
   ]
  },
  {
   "cell_type": "code",
   "execution_count": 3,
   "metadata": {
    "vscode": {
     "languageId": "java"
    }
   },
   "outputs": [
    {
     "ename": "CompilationException",
     "evalue": "",
     "output_type": "error",
     "traceback": [
      "\u001b[1m\u001b[30m|   \u001b[1m\u001b[30m    public \u001b[0m\u001b[1m\u001b[30m\u001b[41m\u001b[0m\u001b[1m\u001b[30mPerson() {\u001b[0m",
      "\u001b[1m\u001b[31minvalid method declaration; return type required\u001b[0m",
      "",
      "\u001b[1m\u001b[30m|   \u001b[1m\u001b[30m    public \u001b[0m\u001b[1m\u001b[30m\u001b[41m\u001b[0m\u001b[1m\u001b[30mPerson(String name, int age, String position, int salary) {\u001b[0m",
      "\u001b[1m\u001b[31minvalid method declaration; return type required\u001b[0m",
      ""
     ]
    }
   ],
   "source": [
    "// Defines the class \"Employee\"\n",
    "public class Employee {\n",
    "    // Instance variables that stores name, age, position, and salary\n",
    "    private String name;\n",
    "    private int age;\n",
    "    private String position;\n",
    "    private int salary;\n",
    "\n",
    "    // Constructor 1: has no arguments and sets default values\n",
    "    public Person() {\n",
    "        this.name = \"Unknown\";\n",
    "        this.age = 0;\n",
    "        this.position = \"Unknown\";\n",
    "        this.salary = 0;\n",
    "    }\n",
    "\n",
    "    // Constructor 2: has parameters and sets values based on parameters\n",
    "    public Person(String name, int age, String position, int salary) {\n",
    "        this.name = name;\n",
    "        this.age = age;\n",
    "        this.position = position;\n",
    "        this.salary = salary;\n",
    "    }\n",
    "\n",
    "    // Setter method to update name\n",
    "    public void setName(String name) {\n",
    "        this.name = name;\n",
    "    }\n",
    "\n",
    "    // Setter method to update age\n",
    "    public void setAge(int age) {\n",
    "        this.age = age;\n",
    "    }\n",
    "\n",
    "    // Setter method to update position\n",
    "    public void setPosition(String position) {\n",
    "        this.position = position;\n",
    "    }\n",
    "\n",
    "    // Setter method to update salary\n",
    "    public void setSalary(int salary) {\n",
    "        this.salary = salary;\n",
    "    }\n",
    "\n",
    "    // Method to display person's information\n",
    "    public void displayInfo() {\n",
    "        System.out.println(\"Name: \" + name);\n",
    "        System.out.println(\"Age: \" + age);\n",
    "        System.out.println(\"Position: \" + position);\n",
    "        System.out.println(\"Salary: \" + salary);\n",
    "    }\n",
    "\n",
    "    // Static method for testing and demonstrating the class\n",
    "    public static void main(String[] args) {\n",
    "        // Create instances of Person class using constructors\n",
    "        Person person1 = new Person(); // Using constructor 1\n",
    "        Person person2 = new Person(\"Timothy\", 19, \"Software Engineer\", 112000); // Using constructor 2\n",
    "\n",
    "        // Display initial information of the created persons\n",
    "        System.out.println(\"Info:\");\n",
    "        System.out.println(\"Person 1:\");\n",
    "        person1.displayInfo();\n",
    "        System.out.println();\n",
    "\n",
    "        System.out.println(\"Person 2:\");\n",
    "        person2.displayInfo();\n",
    "        System.out.println();\n",
    "\n",
    "        // Change information using setters\n",
    "        person1.setName(\"Elizabeth\");\n",
    "        person1.setAge(27);\n",
    "        person.setPosition(\"Manager\");\n",
    "        person.setSalary(120000);\n",
    "\n",
    "        // Display updated information of person1\n",
    "        System.out.println(\"Updated Person 1:\");\n",
    "        person1.displayInfo();\n",
    "    }\n",
    "}\n",
    "Person.main(null);\n"
   ]
  }
 ],
 "metadata": {
  "kernelspec": {
   "display_name": "Java",
   "language": "java",
   "name": "java"
  },
  "language_info": {
   "codemirror_mode": "java",
   "file_extension": ".jshell",
   "mimetype": "text/x-java-source",
   "name": "Java",
   "pygments_lexer": "java",
   "version": "11.0.20+8-post-Ubuntu-1ubuntu120.04"
  },
  "orig_nbformat": 4
 },
 "nbformat": 4,
 "nbformat_minor": 2
}
