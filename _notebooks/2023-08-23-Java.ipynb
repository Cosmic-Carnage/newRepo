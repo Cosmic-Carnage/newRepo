{
 "cells": [
  {
   "cell_type": "markdown",
   "metadata": {},
   "source": [
    "---\n",
    "comments: true\n",
    "layout: post\n",
    "title: Java Notebook\n",
    "description: Hacks for Java\n",
    "courses: { csa: {week: 1} }\n",
    "type: hacks\n",
    "---"
   ]
  },
  {
   "cell_type": "markdown",
   "metadata": {},
   "source": [
    "> ## Java\n",
    ">> I was able to install Java and get the Java kernel as shown by the screenshot below.\n",
    "\n",
    "<img src=\"https://github.com/TayKimmy/CSA_Repo/assets/107821010/7a7f66bc-3b02-4fa9-b3dc-8b4b88ef6aca\">\n",
    "\n",
    ">> But, there appears to be something wrong with the Java I installed, and it is not compatible with the kernel."
   ]
  },
  {
   "cell_type": "code",
   "execution_count": null,
   "metadata": {},
   "outputs": [
    {
     "ename": "",
     "evalue": "",
     "output_type": "error",
     "traceback": [
      "\u001b[1;31mFailed to start the Kernel. \n",
      "\u001b[1;31mError: A JNI error has occurred, please check your installation and try again\n",
      "\u001b[1;31mException in thread \"main\" java.lang.UnsupportedClassVersionError: io/github/spencerpark/ijava/IJava has been compiled by a more recent version of the Java Runtime (class file version 53.0), this version of the Java Runtime only recognizes class file versions up to 52.0\n",
      "\u001b[1;31m\tat java.lang.ClassLoader.defineClass1(Native Method)\n",
      "\u001b[1;31m\tat java.lang.ClassLoader.defineClass(ClassLoader.java:757)\n",
      "\u001b[1;31m\tat java.security.SecureClassLoader.defineClass(SecureClassLoader.java:142)\n",
      "\u001b[1;31m\tat java.net.URLClassLoader.defineClass(URLClassLoader.java:473)\n",
      "\u001b[1;31m\tat java.net.URLClassLoader.access$100(URLClassLoader.java:74)\n",
      "\u001b[1;31m\tat java.net.URLClassLoader$1.run(URLClassLoader.java:369)\n",
      "\u001b[1;31m\tat java.net.URLClassLoader$1.run(URLClassLoader.java:363)\n",
      "\u001b[1;31m\tat java.security.AccessController.doPrivileged(Native Method)\n",
      "\u001b[1;31m\tat java.net.URLClassLoader.findClass(URLClassLoader.java:362)\n",
      "\u001b[1;31m\tat java.lang.ClassLoader.loadClass(ClassLoader.java:419)\n",
      "\u001b[1;31m\tat sun.misc.Launcher$AppClassLoader.loadClass(Launcher.java:352)\n",
      "\u001b[1;31m\tat java.lang.ClassLoader.loadClass(ClassLoader.java:352)\n",
      "\u001b[1;31m\tat sun.launcher.LauncherHelper.checkAndLoadMain(LauncherHelper.java:601). \n",
      "\u001b[1;31mView Jupyter <a href='command:jupyter.viewOutput'>log</a> for further details."
     ]
    }
   ],
   "source": [
    "System.out.print(\"Hellow World!\")"
   ]
  }
 ],
 "metadata": {
  "kernelspec": {
   "display_name": "Java",
   "language": "java",
   "name": "java"
  },
  "language_info": {
   "name": "java"
  },
  "orig_nbformat": 4
 },
 "nbformat": 4,
 "nbformat_minor": 2
}
