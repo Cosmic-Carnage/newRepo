{
 "cells": [
  {
   "cell_type": "markdown",
   "metadata": {},
   "source": [
    "---\n",
    "layout: post\n",
    "title: Java Hello\n",
    "description: Using Java in Jupyter\n",
    "courses: { csa: {week: 1} }\n",
    "type: hacks\n",
    "---"
   ]
  },
  {
   "cell_type": "code",
   "execution_count": 1,
   "metadata": {
    "vscode": {
     "languageId": "java"
    }
   },
   "outputs": [
    {
     "name": "stdout",
     "output_type": "stream",
     "text": [
      "Hellow World!"
     ]
    }
   ],
   "source": [
    "System.out.print(\"Hellow World!\")"
   ]
  },
  {
   "cell_type": "code",
   "execution_count": 11,
   "metadata": {
    "vscode": {
     "languageId": "java"
    }
   },
   "outputs": [
    {
     "name": "stdout",
     "output_type": "stream",
     "text": [
      "Info:\n",
      "Person 1:\n",
      "Name: Unknown\n",
      "Age: 0\n",
      "\n",
      "Person 2:\n",
      "Name: Timothy\n",
      "Age: 19\n",
      "\n",
      "Updated Person 1:\n",
      "Name: Elizabeth\n",
      "Age: 27\n"
     ]
    }
   ],
   "source": [
    "// Defines the class \"Person\"\n",
    "public class Person {\n",
    "    // Instance variables that stores name and age\n",
    "    private String name;\n",
    "    private int age;\n",
    "\n",
    "    // Constructor 1: has no arguments and sets default values\n",
    "    public Person() {\n",
    "        this.name = \"Unknown\";\n",
    "        this.age = 0;\n",
    "    }\n",
    "\n",
    "    // Constructor 2: has parameters and sets values based on parameters\n",
    "    public Person(String name, int age) {\n",
    "        this.name = name;\n",
    "        this.age = age;\n",
    "    }\n",
    "\n",
    "    // Setter method to update name\n",
    "    public void setName(String name) {\n",
    "        this.name = name;\n",
    "    }\n",
    "\n",
    "    // Setter method to update age\n",
    "    public void setAge(int age) {\n",
    "        this.age = age;\n",
    "    }\n",
    "\n",
    "    // Method to display person's information\n",
    "    public void displayInfo() {\n",
    "        System.out.println(\"Name: \" + name);\n",
    "        System.out.println(\"Age: \" + age);\n",
    "    }\n",
    "\n",
    "    // Static method for testing and demonstrating the class\n",
    "    public static void main(String[] args) {\n",
    "        // Create instances of Person class using constructors\n",
    "        Person person1 = new Person(); // Using constructor 1\n",
    "        Person person2 = new Person(\"Timothy\", 19); // Using constructor 2\n",
    "\n",
    "        // Display initial information of the created persons\n",
    "        System.out.println(\"Info:\");\n",
    "        System.out.println(\"Person 1:\");\n",
    "        person1.displayInfo();\n",
    "        System.out.println();\n",
    "\n",
    "        System.out.println(\"Person 2:\");\n",
    "        person2.displayInfo();\n",
    "        System.out.println();\n",
    "\n",
    "        // Change information using setters\n",
    "        person1.setName(\"Elizabeth\");\n",
    "        person1.setAge(27);\n",
    "\n",
    "        // Display updated information of person1\n",
    "        System.out.println(\"Updated Person 1:\");\n",
    "        person1.displayInfo();\n",
    "    }\n",
    "}\n",
    "Person.main(null);\n"
   ]
  }
 ],
 "metadata": {
  "kernelspec": {
   "display_name": "Java",
   "language": "java",
   "name": "java"
  },
  "language_info": {
   "codemirror_mode": "java",
   "file_extension": ".jshell",
   "mimetype": "text/x-java-source",
   "name": "Java",
   "pygments_lexer": "java",
   "version": "11.0.20+8-post-Ubuntu-1ubuntu120.04"
  },
  "orig_nbformat": 4
 },
 "nbformat": 4,
 "nbformat_minor": 2
}
