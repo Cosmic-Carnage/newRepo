{
 "cells": [
  {
   "cell_type": "markdown",
   "metadata": {},
   "source": [
    "---\n",
    "layout: post\n",
    "title: Java Hello\n",
    "description: Using Java in Jupyter\n",
    "courses: { csa: {week: 1} }\n",
    "type: hacks\n",
    "---"
   ]
  },
  {
   "cell_type": "code",
   "execution_count": 1,
   "metadata": {},
   "outputs": [
    {
     "name": "stdout",
     "output_type": "stream",
     "text": [
      "Hellow World!"
     ]
    }
   ],
   "source": [
    "System.out.print(\"Hellow World!\")"
   ]
  },
  {
   "cell_type": "code",
   "execution_count": 15,
   "metadata": {},
   "outputs": [
    {
     "name": "stdout",
     "output_type": "stream",
     "text": [
      "Info:\n",
      "Runner 1:\n",
      "Name: Unknown\n",
      "Mile time: 0.0\n",
      "3 mile time: 0.0\n",
      "Varsity: false\n",
      "\n",
      "Runner 2:\n",
      "Name: Timothy\n",
      "Mile time: 5.37\n",
      "3 mile time: 21.07\n",
      "Varsity: false\n",
      "\n",
      "Updated Runner 1:\n",
      "Name: Joseph\n",
      "Mile time: 4.39\n",
      "3 mile time: 16.59\n",
      "Varsity: true\n"
     ]
    }
   ],
   "source": [
    "// Defines the class \"Runner\"\n",
    "public class Runner {\n",
    "    // Instance variables that stores name, mileTime, Varsity, and threeMileTime\n",
    "    private String name;\n",
    "    private float mileTime;\n",
    "    private float threeMileTime;\n",
    "    private boolean varsity;\n",
    "\n",
    "    // Constructor 1: has no arguments and sets default values\n",
    "    public Runner() {\n",
    "        this.name = \"Unknown\";\n",
    "        this.mileTime = 0.00f;\n",
    "        this.threeMileTime = 0.00f;\n",
    "        this.varsity = false;\n",
    "    }\n",
    "\n",
    "    // Constructor 2: has parameters and sets values based on parameters\n",
    "    public Runner(String name, float mileTime, float threeMileTime, Boolean varsity) {\n",
    "        this.name = name;\n",
    "        this.mileTime = mileTime;\n",
    "        this.threeMileTime = threeMileTime;\n",
    "        this.varsity = varsity;\n",
    "    }\n",
    "\n",
    "    // Setter method to update name\n",
    "    public void setName(String name) {\n",
    "        this.name = name;\n",
    "    }\n",
    "\n",
    "    // Setter method to update mileTime\n",
    "    public void setMileTime(float mileTime) {\n",
    "        this.mileTime = mileTime;\n",
    "    }\n",
    "\n",
    "    // Setter method to update threeMileTime\n",
    "    public void setThreeMileTime(float threeMileTime) {\n",
    "        this.threeMileTime = threeMileTime;\n",
    "    }\n",
    "\n",
    "    // Setter method to update varsity\n",
    "    public void setVarsity(Boolean varsity) {\n",
    "        this.varsity = varsity;\n",
    "    }\n",
    "\n",
    "    // Method to display runner's information\n",
    "    public void displayInfo() {\n",
    "        System.out.println(\"Name: \" + name);\n",
    "        System.out.println(\"Mile time: \" + mileTime);\n",
    "        System.out.println(\"3 mile time: \" + threeMileTime);\n",
    "        System.out.println(\"Varsity: \" + varsity);\n",
    "    }\n",
    "\n",
    "    // Static method for testing and demonstrating the class\n",
    "    public static void main(String[] args) {\n",
    "        // Create instances of Runner class using constructors\n",
    "        Runner runner1 = new Runner(); // Using constructor 1\n",
    "        Runner runner2 = new Runner(\"Timothy\", 5.37f, 21.07f, false); // Using constructor 2\n",
    "\n",
    "        // Display initial information of the created runners\n",
    "        System.out.println(\"Info:\");\n",
    "        System.out.println(\"Runner 1:\");\n",
    "        runner1.displayInfo();\n",
    "        System.out.println();\n",
    "\n",
    "        System.out.println(\"Runner 2:\");\n",
    "        runner2.displayInfo();\n",
    "        System.out.println();\n",
    "\n",
    "        // Change information using setters\n",
    "        runner1.setName(\"Joseph\");\n",
    "        runner1.setMileTime(4.39f);\n",
    "        runner1.setThreeMileTime(16.59f);\n",
    "        runner1.setVarsity(true);\n",
    "\n",
    "        // Display updated information of runner1\n",
    "        System.out.println(\"Updated Runner 1:\");\n",
    "        runner1.displayInfo();\n",
    "    }\n",
    "}\n",
    "Runner.main(null);\n"
   ]
  },
  {
   "cell_type": "markdown",
   "metadata": {},
   "source": [
    "> ## Diagram of Java Class\n",
    "\n",
    "<img src=\"https://github.com/TayKimmy/CSA_Repo/assets/107821010/12e962d3-96c0-464e-a672-a51f948b1d16\">"
   ]
  }
 ],
 "metadata": {
  "kernelspec": {
   "display_name": "Java",
   "language": "java",
   "name": "java"
  },
  "language_info": {
   "codemirror_mode": "java",
   "file_extension": ".jshell",
   "mimetype": "text/x-java-source",
   "name": "java",
   "pygments_lexer": "java",
   "version": "11.0.20+8-post-Ubuntu-1ubuntu120.04"
  },
  "orig_nbformat": 4
 },
 "nbformat": 4,
 "nbformat_minor": 2
}
