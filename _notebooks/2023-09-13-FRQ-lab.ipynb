{
 "cells": [
  {
   "cell_type": "markdown",
   "metadata": {},
   "source": [
    "---\n",
    "layout: post\n",
    "title: FRQ Mini-Lab\n",
    "description: Answering Collegeboard FRQ Questions\n",
    "courses: { csa: {week: 5} }\n",
    "type: hacks\n",
    "---"
   ]
  },
  {
   "cell_type": "markdown",
   "metadata": {},
   "source": [
    "## Steptracker Class\n",
    "\n",
    "This question involves the implementation of a fitness tracking system that is represented by the `StepTracker` class. A `StepTracker` object is created with a parameter that defines the minimum number of steps that must be taken for a day to be considered active. The `StepTracker` class provides a constructor and the following methods.\n",
    "- `addDailySteps`, which accumulates information about steps, in readings taken once per day\n",
    "- `activeDays`, which returns the number of active days\n",
    "- `averageSteps`, which returns the average number of steps per day, calculated by dividing the total number of steps by the number of days tracked\n",
    "\n",
    "Sample code execution sequence and results:\n",
    "\n",
    "| Statement + Expression | Value returned | Comment |\n",
    "| - | - | - |\n",
    "| StepTracker tr = new StepTracker(10000); |  | 10000 steps is considered active |\n",
    "| tr.activeDays(); | 0 | Nothing recorded yet |\n",
    "| tr.addDailySteps(9000); |  | Too little steps to be considered active |\n",
    "| tr.activeDays(); | 0 | No day had at least 10000 steps |\n",
    "| tr.addDailySteps(12000); |  | Represents active day |\n",
    "| tr.activeDays() | 1 | 1 day had at least 10000 steps |\n",
    "| tr.averageSteps(); | 10500 | Average number of steps (21000/2) |"
   ]
  },
  {
   "cell_type": "code",
   "execution_count": 7,
   "metadata": {
    "vscode": {
     "languageId": "java"
    }
   },
   "outputs": [
    {
     "name": "stdout",
     "output_type": "stream",
     "text": [
      "1\n",
      "6333.333333333333\n"
     ]
    }
   ],
   "source": [
    "public class StepTracker {\n",
    "    private int steps; // defining the amount of steps to be considered active\n",
    "\n",
    "    private int x; // defining amount of steps actually walked\n",
    "\n",
    "    private int daysActive = 0; // defining amount of active days\n",
    "\n",
    "    private int totalDays = 0; // defining amount of days\n",
    "\n",
    "    private int totalSteps = 0; // to help calculate average steps\n",
    "\n",
    "    public StepTracker(int stepsNeeded) { // create object with the parameter\n",
    "        steps = stepsNeeded;\n",
    "    }\n",
    "    \n",
    "    public void addDailySteps(int stepsWalked) { // creating addDailySteps method\n",
    "        x = stepsWalked;\n",
    "        totalDays ++;\n",
    "        totalSteps = totalSteps + x;\n",
    "    }\n",
    "\n",
    "    public int activeDays() {\n",
    "        if (x >= steps) { // if steps walked is greater than steps needed\n",
    "            daysActive ++; // add 1 active day\n",
    "        }\n",
    "        return daysActive;\n",
    "    }\n",
    "\n",
    "    public double averageSteps() { // creating averageSteps method\n",
    "        return (double) totalSteps/totalDays; // return the total steps divided by total days\n",
    "    }\n",
    "}\n",
    "\n",
    "public class Main { // create class for outputs\n",
    "    public static void main(String[] args) {\n",
    "        StepTracker random = new StepTracker(5000); //define steptracker with 5000 min steps\n",
    "        random.addDailySteps(3000);\n",
    "        random.addDailySteps(10000);\n",
    "        random.addDailySteps(6000);\n",
    "        System.out.println(random.activeDays());\n",
    "        System.out.println(random.averageSteps());\n",
    "    }\n",
    "}\n",
    "Main.main(null);"
   ]
  },
  {
   "cell_type": "markdown",
   "metadata": {},
   "source": [
    "## Scoring\n",
    "\n",
    "| Point | What I did |\n",
    "| - | - | - |\n",
    "| 1 | I used private instance variables, not public. |\n",
    "| 1 | I declear header for StepTracker using public |\n",
    "| 1 | I use parameters and values to initialize variables |\n",
    "| 1 | I decleare header for addDailySteps |\n",
    "| 1 | I identify active days and increment count |\n",
    "| 1 | I update other instance variables appropriately |\n",
    "| 1 | I declare and implement activeDays |\n",
    "| 1 | I declare header for averageSteps |\n",
    "| 1 | I return calculated double average steps. |\n",
    "\n",
    "I got a 9/9 on this 2019 FRQ question #2.\n",
    "\n",
    "## Review\n",
    "\n",
    "Although I got all the points, there are a few ways I can improve my code.\n",
    "1. Don't set the variables equal to 0 in the beginning, but instead, within the addDailySteps function\n",
    "2. Perform if loop inside addDailySteps function\n",
    "3. Mainly just clean up code and make it perform more effectively\n",
    "4. Make sure to add that if total days is 0, to return 0 for average steps otherwise error will pop up."
   ]
  }
 ],
 "metadata": {
  "kernelspec": {
   "display_name": "Java",
   "language": "java",
   "name": "java"
  },
  "language_info": {
   "codemirror_mode": "java",
   "file_extension": ".jshell",
   "mimetype": "text/x-java-source",
   "name": "Java",
   "pygments_lexer": "java",
   "version": "11.0.20+8-post-Ubuntu-1ubuntu120.04"
  },
  "orig_nbformat": 4
 },
 "nbformat": 4,
 "nbformat_minor": 2
}
