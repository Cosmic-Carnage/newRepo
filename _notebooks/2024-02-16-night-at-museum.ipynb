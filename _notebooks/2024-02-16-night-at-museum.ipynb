{
 "cells": [
  {
   "cell_type": "markdown",
   "metadata": {},
   "source": [
    "---\n",
    "toc: true\n",
    "comments: true\n",
    "layout: post\n",
    "title: N@tM Capture the Moment \n",
    "description: A reflection on Night at the Museum (2/15/2024)\n",
    "type: hacks\n",
    "courses: { csa: {week: 23} }\n",
    "authors: Ethan Tran\n",
    "---"
   ]
  },
  {
   "cell_type": "markdown",
   "metadata": {},
   "source": [
    "## Two Trimester focus planning\n",
    "\n",
    "> Data capture\n",
    "\n",
    "Last night at Night at the Museum, we were able to present our ASL (American Sign Language) project to a large audience. We were able to have users demo our game and as a result, capture predictions that our machine learning model made based off their results and data. What this allowed us to do was to determine if our model was working properly with the game logic, which it was. This validation not only affirmed the accuracy of our machine learning algorithms but also provided valuable insights into user interactions, informing future enhancements and refinements to both the model and the game's user experience.\n",
    "\n",
    ">Feedback \n",
    "\n",
    "Furthermore, we were also able to figure out what we need to work on for the future, such as refining our model to be more precise and accurate. Based off these findings from Night at the Museum, our team can now plan out what we need to work on, which is primarily training our machine learning model to be more accurate. This means that we must extend our dataset and training logic, as in the long run our current training set and model are a bit limited. Additionally, a frequent point of feedback we received was how our game captured images and showed example too quickly, which is something that our team has to adjust in the future.\n",
    "\n",
    "\n",
    "## Blog / article on you and team\n",
    "\n",
    "> Reflection on presentation\n",
    "\n",
    "Last night, our presentation of our game was pretty useful, as our team was able to answer many questions regarding our project not just from techie individuals, but also from people who may have a more basic understanding of computer science. In regards to our overall presentation, our team was able to get our mission statement of spreading awareness and educating our user's about American Sign Language and also how our game works and how we validate scores using our machine learning model. I think a grow however, would be our team's confidence in explaining the more code-based questions, because such questions seemed intimidating for they involved more in-depth explanations that we had to make sure made sense to the person who asked it. Apart from our code, there was a particular family I could recall in which the daughters were not sure about whether they wanted to continue to look at the computer science projects, for the large room with a large bunch of projects seemed a bit intimidating. However, Mr. Mortensen pointed them over to our team and we were able to engage with them and our game seemed to really capture their interest and take any doubts they had about computer science away. These girls were really interested in how our game worked and the fact that our team made a difference in their night and potentially in how they view computer science as whole was very gratifying of not just our project, but for our team as a whole.\n",
    "\n",
    "> Visuals of our presentation and other projects\n",
    "\n",
    "![image](https://github.com/realethantran/ethanBlog/assets/109186517/d3397bb9-94dd-4fb3-8a69-4f26bd54dcd1)\n",
    "![image](https://github.com/realethantran/ethanBlog/assets/109186517/d8b4af1d-156b-4578-9c2d-6609b61b668a)\n",
    "![image](https://github.com/realethantran/ethanBlog/assets/109186517/d4206218-fe11-461c-aa46-382cc37983a2)\n",
    "![image](https://github.com/realethantran/ethanBlog/assets/109186517/1b3e02a6-7096-433e-866f-3203d3579c2c)\n",
    "\n",
    "\n",
    "\n",
    "## Blog on event\n",
    "\n",
    "> Something in CompSci that impressed me (Images feature Team Codemaxxers and other CompSci teams)\n",
    "\n",
    "There were various projects that I thought were really cool and interesting from CompSci. In particular, the project by the team Codemaxxers was very interesting. Their game featured beautiful styling reminiscent of older Pokemon or nintendo games, which I thought was very nice. In terms of their actual project, their game was very fun and educational, as it was a pokemon style battle game which an emphasis on Computer Science related questions to earn points.\n",
    "\n",
    "![image](https://github.com/realethantran/ethanBlog/assets/109186517/cc4576a6-33b3-4bfd-bd57-45ff4c4c72be)\n",
    "![image](https://github.com/realethantran/ethanBlog/assets/109186517/453452bb-952f-40ef-bafe-ecdbc76d2299)\n",
    "\n",
    "> Something outside of CompSci I liked\n",
    "\n",
    "Exploring classes outside of CompSci, I really enjoyed the photography and ceramics presentations. I especially liked a ceramics project that featured a large airplane and a light-up display that was made to look like an airport runway which I thought was awesome. Some of the images of nature in the photography class were also nice to look at, I believe that the students captured these natural settings in a cool way.\n",
    "\n",
    "![image](https://github.com/realethantran/ethanBlog/assets/109186517/3d61b776-3e3f-43d6-a194-d5f5cf3f5587)\n",
    "![image](https://github.com/realethantran/ethanBlog/assets/109186517/b197851d-2185-48ce-b32e-a39e2c013d94)\n",
    "![image](https://github.com/realethantran/ethanBlog/assets/109186517/86a684a5-24fa-480f-8703-81e3fa1f5568)"
   ]
  }
 ],
 "metadata": {
  "language_info": {
   "name": "python"
  }
 },
 "nbformat": 4,
 "nbformat_minor": 2
}
