{
 "cells": [
  {
   "cell_type": "markdown",
   "metadata": {},
   "source": [
    "---\n",
    "layout: post\n",
    "title: U3 Boolean and If statements Hacks\n",
    "courses: { csa: {week: 8} }\n",
    "type: hacks\n",
    "---"
   ]
  },
  {
   "cell_type": "markdown",
   "metadata": {},
   "source": [
    "## Boolean Questions\n",
    "\n",
    "- What is a boolean?\n",
    "A boolean is a conditional that represents true or false. 1 is true and 0 is false.\n",
    "- What values can a boolean represent? How many?\n",
    "A boolean can only hold 2 values, true or false (1 or 0).\n",
    "- What is an example of when we'd use a boolean?\n",
    "When we want to know if something is true or false.\n",
    "\n",
    "### Comments below"
   ]
  },
  {
   "cell_type": "code",
   "execution_count": 1,
   "metadata": {},
   "outputs": [],
   "source": [
    "public class ComparisonExample implements Comparable<ComparisonExample> {\n",
    "    private int comp;\n",
    "    private int comp2;\n",
    "\n",
    "    public ComparisonExample(int _comp, int _comp2) { //constructor for creating instances\n",
    "        this.comp = _comp;\n",
    "        this.comp2 = _comp2;\n",
    "    }\n",
    "\n",
    "    @Override\n",
    "    public int compareTo(ComparisonExample s) { // comparing the comp of this instance with another instance\n",
    "        return Integer.compare(this.comp, s.comp); // negative if this.comp is smaller, 0 if equal, and positive if this.comp is greater\n",
    "    }\n",
    "\n",
    "    public static int compare(ComparisonExample a, ComparisonExample b) // static method to compare 2 objects\n",
    "    {\n",
    "        if(Integer.compare(a.comp, b.comp)==0){ // if equal, compare comp2 attribute\n",
    "            return Integer.compare(a.comp2, b.comp2);\n",
    "        }\n",
    "        else { // if attributes are not equal, compare comp1 attributes\n",
    "            return Integer.compare(a.comp, b.comp);\n",
    "        }\n",
    "    }\n",
    "}"
   ]
  },
  {
   "cell_type": "markdown",
   "metadata": {},
   "source": [
    "Compare and contrast `Comparator<>` and `compareTo`:\n",
    "\n",
    "`Comparator<>`:\n",
    "- A Java interface that allows you to define custom comparison rules for objects\n",
    "- Can sort objects based on criteria other than their natural order\n",
    "\n",
    "`compareTo`:\n",
    "- Part of the `Comparable` interface\n",
    "- Method typically used for sorting objects based on natural order"
   ]
  },
  {
   "cell_type": "markdown",
   "metadata": {},
   "source": [
    "### Challenge Problem\n",
    "Issue is that strings cannot be compared with `==`, `.equals` must be used."
   ]
  },
  {
   "cell_type": "code",
   "execution_count": 2,
   "metadata": {},
   "outputs": [
    {
     "name": "stdout",
     "output_type": "stream",
     "text": [
      "Guess my name!\n",
      "Your guess: John\n",
      "true\n"
     ]
    }
   ],
   "source": [
    "public class Challenge {\n",
    "\n",
    "    private static boolean isName = false;\n",
    "    private static String name = new String(\"John\");\n",
    "\n",
    "\n",
    "    public static void main(String [] args){\n",
    "\n",
    "        Scanner sc = new Scanner(System.in);\n",
    "\n",
    "        System.out.println(\"Guess my name!\");\n",
    "\n",
    "        String guess = sc.nextLine();\n",
    "        System.out.println(\"Your guess: \" + guess);\n",
    "\n",
    "    \n",
    "        if(guess.equals(name)){  // can't use double equal sign because they're strings, must use .equal()\n",
    "            isName = true;\n",
    "        } else {\n",
    "            System.out.println(\"Wrong! L Cope\");\n",
    "        }\n",
    "\n",
    "        System.out.println(isName);\n",
    "\n",
    "    }\n",
    "}\n",
    "\n",
    "Challenge.main(null);"
   ]
  },
  {
   "cell_type": "markdown",
   "metadata": {},
   "source": [
    "## Boolean Hacks\n",
    "\n",
    "### Compare Class"
   ]
  },
  {
   "cell_type": "code",
   "execution_count": 12,
   "metadata": {},
   "outputs": [
    {
     "name": "stdout",
     "output_type": "stream",
     "text": [
      "Timothy is younger than Rosa\n",
      "Timothy gets paid less than Rosa\n",
      "Rosa comes before Timothy alphabetically.\n"
     ]
    }
   ],
   "source": [
    "public class Employee implements Comparable<Employee> {\n",
    "    private String name;\n",
    "    private int age;\n",
    "    private int salary;\n",
    "\n",
    "    public Employee(String name, int age, int salary) {\n",
    "        this.name = name;\n",
    "        this.age = age;\n",
    "        this.salary = salary;\n",
    "    }\n",
    "\n",
    "    @Override\n",
    "    public int compareTo(Employee sample) {\n",
    "        return Integer.compare(this.age, sample.age);\n",
    "    }\n",
    "\n",
    "    public int compareSalary(Employee sample) {\n",
    "        return Integer.compare(this.salary, sample.salary);\n",
    "    }\n",
    "\n",
    "    public static int compareName(Employee a, Employee b) {\n",
    "        return a.name.compareTo(b.name);\n",
    "    }\n",
    "\n",
    "    public static void main(String[] args) {\n",
    "        Employee employee1 = new Employee(\"Timothy\", 26, 143000);\n",
    "        Employee employee2 = new Employee(\"Rosa\", 32, 150000);\n",
    "\n",
    "        int ageCompare = employee1.compareTo(employee2);\n",
    "\n",
    "        if(ageCompare < 0) {\n",
    "            System.out.println(employee1.name + \" is younger than \" + employee2.name);\n",
    "        } else if (ageCompare > 0) {\n",
    "            System.out.println(employee1.name + \" is older than \" + employee2.name);\n",
    "        } else {\n",
    "            System.out.println(employee1.name + \" is the same age as \" + employee2.name);\n",
    "        }\n",
    "\n",
    "        int salaryCompare = employee1.compareSalary(employee2);\n",
    "\n",
    "        if (salaryCompare < 0) {\n",
    "            System.out.println(employee1.name + \" gets paid less than \" + employee2.name);\n",
    "        } else if (salaryCompare > 0) {\n",
    "            System.out.println(employee2.name + \" gets paid more than \" + employee1.name);\n",
    "        } else {\n",
    "            System.out.println(employee1.name + \" gets paid the same as \" + employee2.name);\n",
    "        }\n",
    "\n",
    "        int nameCompare = compareName(employee1, employee2);\n",
    "\n",
    "        if (nameCompare < 0) {\n",
    "            System.out.println(employee1.name + \" comes before \" + employee2.name + \" alphabetically.\");\n",
    "        } else if (nameCompare > 0) {\n",
    "            System.out.println(employee2.name + \" comes before \" + employee1.name + \" alphabetically.\");\n",
    "        } else {\n",
    "            System.out.println(employee1.name + \" and \" + employee2.name + \" have the same name.\");\n",
    "        }\n",
    "    }\n",
    "}\n",
    "Employee.main(null);"
   ]
  },
  {
   "cell_type": "markdown",
   "metadata": {},
   "source": [
    "### Leap Year"
   ]
  },
  {
   "cell_type": "code",
   "execution_count": 18,
   "metadata": {},
   "outputs": [
    {
     "name": "stdout",
     "output_type": "stream",
     "text": [
      "Enter a year:\n",
      "2024 is a leap year.\n",
      "Leap Year: true\n"
     ]
    }
   ],
   "source": [
    "import java.util.Scanner;\n",
    "\n",
    "public class LeapYear {\n",
    "    public static void main(String[] args) {\n",
    "        Scanner input = new Scanner(System.in);\n",
    "\n",
    "        System.out.println(\"Enter a year:\");\n",
    "        int year = input.nextInt();\n",
    "\n",
    "        boolean isLeapYear = false;\n",
    "\n",
    "        if ((year % 4 == 0 && year % 100 != 0) || (year % 400 == 0)) {\n",
    "            isLeapYear = true;\n",
    "            System.out.println(year + \" is a leap year.\");\n",
    "        } else {\n",
    "            System.out.println(year + \" is not a leap year.\");\n",
    "        }\n",
    "        System.out.println(\"Leap Year: \" + isLeapYear);\n",
    "    }\n",
    "}\n",
    "LeapYear.main(null);"
   ]
  },
  {
   "cell_type": "markdown",
   "metadata": {},
   "source": [
    "## Binary Logic Questions\n",
    "\n",
    "NOT(true) = false\n",
    "\n",
    "1(0) = 0\n",
    "\n",
    "(1)(0)' = 1\n",
    "\n",
    "true&&false = false\n",
    "\n",
    "1 + 0 = 1\n",
    "\n",
    "!(true) = false\n",
    "\n",
    "true ^ false = true\n",
    "\n",
    "!(false ^ false) = true\n",
    "\n",
    "## Binary Logic Hacks\n",
    "\n",
    "1. !(true)&&(false) = ? what in boolean values?\n",
    "\n",
    "False\n",
    "\n",
    "2. not ((((true and not (false)) ^ false) ^ true) && false) (remember PEMDASNAO!)\n",
    "\n",
    "True\n",
    "\n",
    "3. Prove the following: !A * !(B + !C) = !A * (!B * C) .\n",
    "\n",
    "!A && (!B && C) = !A && (!B && C)\n",
    "\n",
    "4. 420 && 66 (Hint, convert to binary, then perform the operation)\n",
    "\n",
    "000000000 = 0\n",
    "\n",
    "    1. If you got this one, try 89 OR 42\n",
    "\n",
    "    1111011 = 123"
   ]
  },
  {
   "cell_type": "code",
   "execution_count": 37,
   "metadata": {},
   "outputs": [
    {
     "name": "stdout",
     "output_type": "stream",
     "text": [
      "false\n",
      "true\n"
     ]
    },
    {
     "name": "stdout",
     "output_type": "stream",
     "text": [
      "110100100\n",
      "001000010\n",
      "1011001\n",
      "0101010\n"
     ]
    }
   ],
   "source": [
    "public class Boolean {\n",
    "    public static void main(String[] args) {\n",
    "        boolean a = true;\n",
    "        boolean b = false;\n",
    "        System.out.println(!(a)&&(b));\n",
    "        System.out.println(!((((a && !(b)) ^ b) ^ a) && b));\n",
    "    }\n",
    "}\n",
    "Boolean.main(null);\n",
    "\n",
    "public class Binary {\n",
    "    public static void main(String[] args) {\n",
    "        int num1 = 420;\n",
    "        int num2 = 66;\n",
    "        int num3 = 89;\n",
    "        int num4 = 42;\n",
    "        System.out.println(Integer.parseInt(Integer.toBinaryString(num1)));\n",
    "        System.out.println(\"00\" + Integer.parseInt(Integer.toBinaryString(num2)));\n",
    "        System.out.println(Integer.parseInt(Integer.toBinaryString(num3)));\n",
    "        System.out.println(\"0\" + Integer.parseInt(Integer.toBinaryString(num4)));\n",
    "    }\n",
    "}\n",
    "Binary.main(null);"
   ]
  }
 ],
 "metadata": {
  "kernelspec": {
   "display_name": "Java",
   "language": "java",
   "name": "java"
  },
  "language_info": {
   "codemirror_mode": "java",
   "file_extension": ".jshell",
   "mimetype": "text/x-java-source",
   "name": "java",
   "pygments_lexer": "java",
   "version": "17.0.8+7-Ubuntu-120.04.2"
  },
  "orig_nbformat": 4
 },
 "nbformat": 4,
 "nbformat_minor": 2
}
