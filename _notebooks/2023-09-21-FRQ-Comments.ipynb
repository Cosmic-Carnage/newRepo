{
 "cells": [
  {
   "cell_type": "markdown",
   "metadata": {},
   "source": [
    "---\n",
    "layout: post\n",
    "title: FRQ Crossover\n",
    "description: Taking notes on other groups\n",
    "courses: { csa: {week: 5} }\n",
    "type: tangibles\n",
    "---"
   ]
  },
  {
   "cell_type": "markdown",
   "metadata": {},
   "source": [
    "## A-REEL Notes/Comments\n",
    "\n",
    "2022 FRQ Question 2 - Classes:\n",
    "- Create a subclass Textbook given class Book\n",
    "- Create a substitution method which returns true/false\n",
    "- Access price, title, and edition\n",
    "- Use of inheritance and `super` keyword\n",
    "\n",
    "2023 FRQ Question 3 - Arrays and ArrayList:\n",
    "- Analyze weather data - class called WeatherData\n",
    "- Records highest temperature from each day\n",
    "- Upper and lower parameters for ArrayList\n",
    "- Modify ArrayList to suit parameters\n",
    "- Access `Remove` method\n",
    "- `longestHeatWave` method to find the longest heat wave\n",
    "- **When iterating forward, deleting causes list to shrink - you end up deleting the same one; iterate backwards**\n",
    "\n",
    "2023 FRQ Question 4 - 2D Arrays:\n",
    "- "
   ]
  }
 ],
 "metadata": {
  "language_info": {
   "name": "python"
  },
  "orig_nbformat": 4
 },
 "nbformat": 4,
 "nbformat_minor": 2
}
