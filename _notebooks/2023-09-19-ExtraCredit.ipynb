{
 "cells": [
  {
   "cell_type": "markdown",
   "metadata": {},
   "source": [
    "---\n",
    "layout: post\n",
    "title: Seed Extra Credit\n",
    "courses: {csa: {week: 5}}\n",
    "type: hacks\n",
    "---"
   ]
  },
  {
   "cell_type": "markdown",
   "metadata": {},
   "source": [
    "> ## Takeaways\n",
    "\n",
    "\n",
    "College Applications / College:\n",
    "\n",
    "\n",
    "- Do as many applications as you can for CS because there's a lot of luck involved - pray it works\n",
    "- The school doesn't always matter that much - neither does undergrad - getting a high degree is more important and is a bigger factor in getting a better job\n",
    "- Having extracurriculars related to computer science is very important\n",
    "    - A teaching position is even better\n",
    "- Being able to organize activities will be very helpful in college apps\n",
    "    - You can put on the apps that you did something and motivated people\n",
    "    - Just being on a team doesn't mean anything, you have to do something\n",
    "- Have real life applications - learning coding languages like HTML and Python doesn't mean anything if it doesn't impact you or if you don't apply it\n",
    "\n",
    "Internships / Jobs:\n",
    "\n",
    "\n",
    "- Try to do/make projects outside of CSP and CSA\n",
    "- Spend extra time for coding\n",
    "- Can help get internships as you can send these personal achievements\n",
    "- Use Vercel to share your projects with others - also deployment tool\n",
    "- Having extra projects to show for CS will be very helpful\n",
    "    - Employers can actually look at your projects and know that you care\n",
    "- Find a company that you want to apply to\n",
    "    - Redesign a project/website of theirs\n",
    "    - Add a lot of documentation\n",
    "- Build something you enjoy\n",
    "    - If you like playing games, make a project related to games\n",
    "    - You don't have to build something that's revolutionary, it can be something silly as long as it relates to you\n",
    "- Solve daily problems - Leetcode, Hackerrank, HackerEarth\n",
    "- Sveltekit - used for web development\n",
    "- Make a Linkedin profile\n",
    "\n",
    "\n",
    "## Reflection\n",
    "Through this panel, I learned multiple things. First, I learned that instead of just being part of activities, leading activities has a bigger impact on college applications and internships. Being able to organize activities instead of just participating is very helpful. I should also apply the skills I learn into real life. Just knowing coding languages or syntaxes is not that good if you don't apply it into your life. I also learned that I should work on individual projects outside of CS in school. Doing so will not only increase my technical skills, but it will also be very helpful when getting internships and jobs. I was also introduced to online services like Leetcode, Sveltekit, and Vercel which can be very helpful when improving computer science and web development skills. When making extra projects, I can search for companies I am interested in a remake/redesign projects that they have done. I can also find something I am interested in and build off of that."
   ]
  }
 ],
 "metadata": {
  "language_info": {
   "name": "python"
  },
  "orig_nbformat": 4
 },
 "nbformat": 4,
 "nbformat_minor": 2
}
