{
 "cells": [
  {
   "cell_type": "markdown",
   "metadata": {},
   "source": [
    "---\n",
    "layout: post\n",
    "title: FRQ Test \n",
    "courses: { csa: {week: 5} }\n",
    "type: tangibles\n",
    "---"
   ]
  },
  {
   "cell_type": "markdown",
   "metadata": {},
   "source": [
    "## Initialize a Numberical Keypad"
   ]
  },
  {
   "cell_type": "code",
   "execution_count": 59,
   "metadata": {
    "vscode": {
     "languageId": "java"
    }
   },
   "outputs": [],
   "source": [
    "public static void initializedKeypad() {\n",
    "    int[] keypad = {1, 2, 3, 4, 5, 6, 7, 8, 9, 0};\n",
    "\n",
    "    for (int i = 0; i < keypad.length; i++) {\n",
    "        System.out.print(keypad[i] + \" \");\n",
    "        if ((i+1) % 3 == 0) {\n",
    "            System.out.println();\n",
    "        }\n",
    "    }\n",
    "}"
   ]
  },
  {
   "cell_type": "markdown",
   "metadata": {},
   "source": [
    "## Reverse an Array"
   ]
  },
  {
   "cell_type": "code",
   "execution_count": 54,
   "metadata": {
    "vscode": {
     "languageId": "java"
    }
   },
   "outputs": [],
   "source": [
    "public static void reverseArray() {\n",
    "    int[] lst = {1, 2, 3, 4, 5, 6, 7, 8, 9, 10};\n",
    "\n",
    "    for (int x = lst.length; x > 0; x--){\n",
    "        System.out.print(x + \" \");\n",
    "    }\n",
    "\n",
    "    for (int i = 1; i <= lst.length; i++ ) {\n",
    "        System.out.print(i + \" \");\n",
    "    }\n",
    "}"
   ]
  },
  {
   "cell_type": "markdown",
   "metadata": {},
   "source": [
    "## Initialize Random Integers in ArrayList using Math.Random"
   ]
  },
  {
   "cell_type": "code",
   "execution_count": null,
   "metadata": {
    "vscode": {
     "languageId": "java"
    }
   },
   "outputs": [],
   "source": []
  },
  {
   "cell_type": "markdown",
   "metadata": {},
   "source": [
    "## Main"
   ]
  },
  {
   "cell_type": "code",
   "execution_count": 60,
   "metadata": {
    "vscode": {
     "languageId": "java"
    }
   },
   "outputs": [
    {
     "name": "stdout",
     "output_type": "stream",
     "text": [
      "Keypad:\n",
      "1 2 3 \n",
      "4 5 6 \n",
      "7 8 9 \n",
      "0 \n",
      "Reversed Array:\n",
      "10 9 8 7 6 5 4 3 2 1 1 2 3 4 5 6 7 8 9 10 "
     ]
    }
   ],
   "source": [
    "public static void main(String[] args) {\n",
    "    System.out.println(\"Keypad:\");\n",
    "    initializedKeypad();\n",
    "\n",
    "    System.out.println(\"\\nReversed Array:\");\n",
    "    reverseArray();\n",
    "\n",
    "    System.out.println(\"\\nRandom List:\");\n",
    "    ArrayList<Integer> randomList = initializedRandomList(5,2,8);\n",
    "    System.out.println(randomList);\n",
    "}\n",
    "main(null);"
   ]
  }
 ],
 "metadata": {
  "kernelspec": {
   "display_name": "Java",
   "language": "java",
   "name": "java"
  },
  "language_info": {
   "codemirror_mode": "java",
   "file_extension": ".jshell",
   "mimetype": "text/x-java-source",
   "name": "Java",
   "pygments_lexer": "java",
   "version": "11.0.20+8-post-Ubuntu-1ubuntu120.04"
  },
  "orig_nbformat": 4
 },
 "nbformat": 4,
 "nbformat_minor": 2
}
