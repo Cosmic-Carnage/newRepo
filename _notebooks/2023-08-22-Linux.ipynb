{
 "cells": [
  {
   "cell_type": "markdown",
   "metadata": {},
   "source": [
    "#!/bin/bash\n",
    "\n",
    "# Check if Bash is installed\n",
    "if command -v bash &> /dev/null; then\n",
    "    echo \"Bash is installed.\"\n",
    "else\n",
    "    echo \"Bash is not installed.\"\n",
    "fi\n",
    "\n",
    "# Check if GitHub is installed\n",
    "if command -v git &> /dev/null; then\n",
    "    echo \"GitHub is installed.\"\n",
    "else\n",
    "    echo \"GitHub is not installed.\"\n",
    "fi\n",
    "\n",
    "# Check if VSCode is installed\n",
    "if command -v code &> /dev/null; then\n",
    "    echo \"VSCode is installed.\"\n",
    "else\n",
    "    echo \"VSCode is not installed.\"\n",
    "fi\n",
    "\n",
    "# Check if Jupyter Notebook is installed\n",
    "if command -v jupyter &> /dev/null; then\n",
    "    echo \"Jupyter Notebook is installed.\"\n",
    "else\n",
    "    echo \"Jupyter Notebook is not installed.\"\n",
    "fi\n",
    "\n",
    "# Check if Docker is installed\n",
    "if command -v docker &> /dev/null; then\n",
    "    echo \"Docker is installed.\"\n",
    "else\n",
    "    echo \"Docker is not installed.\"\n",
    "fi\n",
    "\n",
    "# Check if Linux is running\n",
    "if [[ \"$(uname)\" == \"Linux\" ]]; then\n",
    "    echo \"Linux is running.\"\n",
    "else\n",
    "    echo \"Linux is not running.\"\n",
    "fi\n",
    "\n",
    "# Check if WSL is available\n",
    "if grep -q Microsoft /proc/version; then\n",
    "    echo \"WSL is available.\"\n",
    "else\n",
    "    echo \"WSL is not available.\"\n",
    "fi\n"
   ]
  }
 ],
 "metadata": {
  "kernelspec": {
   "display_name": "base",
   "language": "python",
   "name": "python3"
  },
  "language_info": {
   "codemirror_mode": {
    "name": "ipython",
    "version": 3
   },
   "file_extension": ".py",
   "mimetype": "text/x-python",
   "name": "python",
   "nbconvert_exporter": "python",
   "pygments_lexer": "ipython3",
   "version": "3.9.12"
  },
  "orig_nbformat": 4
 },
 "nbformat": 4,
 "nbformat_minor": 2
}
