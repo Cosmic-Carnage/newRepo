{
 "cells": [
  {
   "cell_type": "code",
   "execution_count": 2,
   "metadata": {
    "vscode": {
     "languageId": "shellscript"
    }
   },
   "outputs": [
    {
     "name": "stdout",
     "output_type": "stream",
     "text": [
      "Bash is installed.\n",
      "GitHub is installed.\n",
      "VSCode is installed.\n",
      "Jupyter Notebook is installed.\n",
      "Docker is installed.\n",
      "Linux is running.\n"
     ]
    }
   ],
   "source": [
    "#!/bin/bash\n",
    "\n",
    "# Check if Bash is installed\n",
    "if command -v bash &> /dev/null; then\n",
    "    echo \"Bash is installed.\"\n",
    "else\n",
    "    echo \"Bash is not installed.\"\n",
    "fi\n",
    "\n",
    "# Check if GitHub is installed\n",
    "if command -v git &> /dev/null; then\n",
    "    echo \"GitHub is installed.\"\n",
    "else\n",
    "    echo \"GitHub is not installed.\"\n",
    "fi\n",
    "\n",
    "# Check if VSCode is installed\n",
    "if command -v code &> /dev/null; then\n",
    "    echo \"VSCode is installed.\"\n",
    "else\n",
    "    echo \"VSCode is not installed.\"\n",
    "fi\n",
    "\n",
    "# Check if Jupyter Notebook is installed\n",
    "if command -v jupyter &> /dev/null; then\n",
    "    echo \"Jupyter Notebook is installed.\"\n",
    "else\n",
    "    echo \"Jupyter Notebook is not installed.\"\n",
    "fi\n",
    "\n",
    "# Check if Docker is installed\n",
    "if command -v docker &> /dev/null; then\n",
    "    echo \"Docker is installed.\"\n",
    "else\n",
    "    echo \"Docker is not installed.\"\n",
    "fi\n",
    "\n",
    "# Check if Linux is running\n",
    "if [[ \"$(uname)\" == \"Linux\" ]]; then\n",
    "    echo \"Linux is running.\"\n",
    "else\n",
    "    echo \"Linux is not running.\"\n",
    "fi\n"
   ]
  },
  {
   "cell_type": "markdown",
   "metadata": {},
   "source": [
    "> ## Frequent Linux Commands\n",
    ">> Name and create blog notes on some Linux commands you will use frequently.\n",
    "\n",
    "1. `ls` - Lists directory contents \n",
    "2. `cd` - Changes directory \n",
    "3. `mkdir` - \n",
    "4. `rm`\n",
    "5. `sudo`\n",
    "6. `cp`\n",
    "7. `mv`\n",
    "\n",
    "---\n",
    "\n",
    "> ## Verify tools\n",
    ">> Is there anything we use to verify tools we installed? Review versions?\n",
    "\n",
    "\n",
    "\n",
    "---\n",
    "\n",
    "> ## Update repository\n",
    ">> How would you update a repository? Use the git command line?\n",
    "\n",
    "\n"
   ]
  }
 ],
 "metadata": {
  "kernelspec": {
   "display_name": "Bash",
   "language": "bash",
   "name": "bash"
  },
  "language_info": {
   "codemirror_mode": "shell",
   "file_extension": ".sh",
   "mimetype": "text/x-sh",
   "name": "bash"
  },
  "orig_nbformat": 4
 },
 "nbformat": 4,
 "nbformat_minor": 2
}
